{
 "cells": [
  {
   "cell_type": "markdown",
   "metadata": {},
   "source": [
    "# Linear Algebra (CpE210A)"
   ]
  },
  {
   "cell_type": "markdown",
   "metadata": {},
   "source": [
    " "
   ]
  },
  {
   "cell_type": "markdown",
   "metadata": {},
   "source": [
    "### Laboratory 1: Getting acquainted with Python"
   ]
  },
  {
   "cell_type": "markdown",
   "metadata": {},
   "source": [
    "##### Coded and submitted by:\n",
    " ESCOBAR, Angela Shanine G.<br>\n",
    " 58010"
   ]
  },
  {
   "cell_type": "markdown",
   "metadata": {},
   "source": [
    " "
   ]
  },
  {
   "cell_type": "markdown",
   "metadata": {},
   "source": [
    "### Lab Exercises: "
   ]
  },
  {
   "cell_type": "code",
   "execution_count": 10,
   "metadata": {},
   "outputs": [
    {
     "name": "stdout",
     "output_type": "stream",
     "text": [
      "Charmander at level 15\n",
      "Pidgey at level 11\n",
      "Sandshrew at level 18\n",
      "Rattata at level 5\n",
      "Abra at level 14\n"
     ]
    }
   ],
   "source": [
    "party = ['Charmander', 'Pidgey', 'Sandshrew', 'Rattata', 'Abra']# The list of pokemon name\n",
    "levels = [15, 11, 18, 5, 14] # the list of level\n",
    "for (character,level) in zip (party,levels): # the zip function combine the list\n",
    "    print (character,'at level',level)"
   ]
  },
  {
   "cell_type": "code",
   "execution_count": 8,
   "metadata": {},
   "outputs": [
    {
     "name": "stdout",
     "output_type": "stream",
     "text": [
      "['Dialga', 'Regigigas', 'Onix']\n"
     ]
    }
   ],
   "source": [
    "reserves = [\n",
    "    ('Onix',10),\n",
    "    ('Slowpoke',18),\n",
    "    ('Dialga', 2),\n",
    "    ('Magikarp', 32),\n",
    "    ('Feebas', 22),\n",
    "    ('Swablu', 19),\n",
    "    ('Regigigas', 3),\n",
    "    ('Unown', 50)\n",
    "]\n",
    "T=3                                         # The sorted fuction will sort the reserves list \n",
    "res=sorted(reserves,key= lambda y:y[1])[:T] # Using the lambda the list will sort base on their levels \n",
    "R=[]                                        # The R variable is used to put the elements\n",
    "for pk in res:                              # The for loop will remove the levels and loop it with three elements\n",
    "    R.append(pk[0])                         # The append fuction will add the three elements to the R to create a new list without the levels\n",
    "print(R)"
   ]
  },
  {
   "cell_type": "code",
   "execution_count": 15,
   "metadata": {},
   "outputs": [],
   "source": [
    "def create_party(party,candidates):\n",
    "    suggested_parties = party # the suggested parties is used to get the party list on the cell 1\n",
    "\n",
    "    suggested_parties.append(candidates[0])# The apppend function is used to add the candidate[0] on the suggested_list\n",
    "    print(suggested_parties) # This will print the suggested_parties\n",
    "    suggested_parties.pop() # The pop function will remove the append condidate[0]\n",
    "    suggested_parties.append(candidates[1])# The apppend function is used to add the candidate[1] on the suggested_list\n",
    "    print(suggested_parties)# This will print the suggested_parties candidate[1]\n",
    "    suggested_parties.pop()# The pop function will remove the append condidate[1]\n",
    "    suggested_parties.append(candidates[2])\n",
    "    return suggested_parties # return fuction is used to show the suggested_parties"
   ]
  },
  {
   "cell_type": "code",
   "execution_count": 16,
   "metadata": {},
   "outputs": [
    {
     "name": "stdout",
     "output_type": "stream",
     "text": [
      "['Charmander', 'Pidgey', 'Sandshrew', 'Rattata', 'Abra', 'Onix', 'Dialga']\n",
      "['Charmander', 'Pidgey', 'Sandshrew', 'Rattata', 'Abra', 'Onix', 'Regigigas']\n"
     ]
    },
    {
     "data": {
      "text/plain": [
       "['Charmander', 'Pidgey', 'Sandshrew', 'Rattata', 'Abra', 'Onix', 'Onix']"
      ]
     },
     "execution_count": 16,
     "metadata": {},
     "output_type": "execute_result"
    }
   ],
   "source": [
    "create_party(party,R) # This would call the def create_party with the party list in cell 1 and the R list on the cell 2"
   ]
  },
  {
   "cell_type": "code",
   "execution_count": null,
   "metadata": {},
   "outputs": [],
   "source": []
  }
 ],
 "metadata": {
  "kernelspec": {
   "display_name": "Python 3",
   "language": "python",
   "name": "python3"
  },
  "language_info": {
   "codemirror_mode": {
    "name": "ipython",
    "version": 3
   },
   "file_extension": ".py",
   "mimetype": "text/x-python",
   "name": "python",
   "nbconvert_exporter": "python",
   "pygments_lexer": "ipython3",
   "version": "3.8.3"
  }
 },
 "nbformat": 4,
 "nbformat_minor": 4
}
