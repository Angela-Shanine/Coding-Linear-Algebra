{
 "cells": [
  {
   "cell_type": "markdown",
   "metadata": {},
   "source": [
    "# Linear Algebra (CpE210A)"
   ]
  },
  {
   "cell_type": "markdown",
   "metadata": {},
   "source": [
    " "
   ]
  },
  {
   "cell_type": "markdown",
   "metadata": {},
   "source": [
    "### Laboratory 2: Plotting Vectors using NumPy and MatPlotLib"
   ]
  },
  {
   "cell_type": "markdown",
   "metadata": {},
   "source": [
    " "
   ]
  },
  {
   "cell_type": "markdown",
   "metadata": {},
   "source": [
    "Coded and submitted by:<br>\n",
    "ESCOBAR, Angela Shanine G.<br>\n",
    "58010"
   ]
  },
  {
   "cell_type": "markdown",
   "metadata": {},
   "source": [
    " "
   ]
  },
  {
   "cell_type": "markdown",
   "metadata": {},
   "source": [
    "##### Lab Exercises:"
   ]
  },
  {
   "cell_type": "code",
   "execution_count": 6,
   "metadata": {},
   "outputs": [],
   "source": [
    "import numpy as np\n",
    "import matplotlib.pyplot as plt\n",
    "import matplotlib\n",
    "\n",
    "%matplotlib inline"
   ]
  },
  {
   "cell_type": "markdown",
   "metadata": {},
   "source": [
    " "
   ]
  },
  {
   "cell_type": "markdown",
   "metadata": {},
   "source": [
    " "
   ]
  },
  {
   "cell_type": "markdown",
   "metadata": {},
   "source": [
    "# Part 1: Skyline Eagle Fly\n",
    "You are tasked to make a tracking device for Philippine Eagles at the Philippine Eagle Center at Davao. The tracker sensors only give the longitudinal and latitudinal distance (meters) of the eagle's position relative to their nests which we will treat as the origin of the tracking view. We want to determine the relative displacement of the eagle from its nest. It is expected that the eagles will change exactly two times, it can then be assumed that the program will show three displacements. Please make a prototype code using the additional information given below:"
   ]
  },
  {
   "cell_type": "markdown",
   "metadata": {},
   "source": [
    " "
   ]
  },
  {
   "cell_type": "markdown",
   "metadata": {},
   "source": [
    " "
   ]
  },
  {
   "cell_type": "markdown",
   "metadata": {},
   "source": [
    "Consider the computational algorithm:"
   ]
  },
  {
   "cell_type": "markdown",
   "metadata": {},
   "source": [
    "Let the eagle's longitudinal and latitudinal be  long  and  lat  respectively.<br>\n",
    "Let the eagle's total distance as  disttotal , displacement be  disp , and  θ  as the direction of the vector."
   ]
  },
  {
   "cell_type": "markdown",
   "metadata": {},
   "source": [
    " $ (Eq.1)dist_(total) = (long_{total})\\hat{x} +(long_{total})\\hat{y}$\n",
    " <br> $ (Eq.2) disp = \\sqrt{dist^{2} + disty^{2}}$ \n",
    " <br>$ (Eq.3)^{θ} = arctan\\frac{y}{ax} $"
   ]
  },
  {
   "cell_type": "markdown",
   "metadata": {},
   "source": [
    "  "
   ]
  },
  {
   "cell_type": "code",
   "execution_count": 21,
   "metadata": {},
   "outputs": [
    {
     "data": {
      "image/png": "[encoded data removed]",
      "text/plain": [
       "<Figure size 720x720 with 1 Axes>"
      ]
     },
     "metadata": {
      "needs_background": "light"
     },
     "output_type": "display_data"
    }
   ],
   "source": [
    "## START OF FUNCTION\n",
    "def track_eagle(make_figs=True):\n",
    "    long = np.random.randint(-10,10, size=3) ## since we don't actually have eagle tracking data we will use\n",
    "    lat = np.random.randint(-10,10, size=3)  ## random integers for this activity. These two lines will produce\n",
    "                                             ## a vector with shape of (3,) describing the distances for the \n",
    "                                             ## eagle's flight.\n",
    "\n",
    "    dist1 = np.array([long[0],lat[0]])       ## setup the array for each vector for the eagle's flight.\n",
    "    dist2 = np.array([long[1],lat[0]])\n",
    "    dist3 = np.array([long[2],lat[0]])\n",
    "\n",
    "    dist_total = dist1 + dist2 + dist3       ## compute for the resultant vector for the eagle's flight.\n",
    "    disp = np.linalg.norm(dist_total)        ## compute for the magnitude of the displacement\n",
    "    alpha = 10**-6\n",
    "    theta =  np.arctan((dist_total[1])/(dist_total[0] + alpha))  ## compute for the angle of the displacement. Hint\n",
    "    theta =  np.degrees(theta)                                   ## convert theta from rad to deg.\n",
    "    \n",
    "    ## Plotting the PH Eagle flight vectors.\n",
    "    plt.figure(figsize=(10,10))\n",
    "    plt.title('Philippine Eagle Flight Plotter')\n",
    "    plt.xlim(-30, 30)\n",
    "    plt.ylim(-30, 30)\n",
    "    plt.xlabel('Latitudinal Distance')\n",
    "    plt.ylabel('Longitudinal Distance')\n",
    "    plt.grid()\n",
    "    n = 2\n",
    "    \n",
    "    ### Self-discovery code block (Refer to guide question 2 for the task)\n",
    "    \n",
    "    plt.quiver(0,0, dist1[0], dist1[1], \n",
    "               angles='xy', scale_units='xy',scale=1, color='red', \n",
    "               label='Trajectory 1: {:.2f}m.'.format(np.linalg.norm(dist1)))\n",
    "    plt.quiver(dist1[0], dist1[1], dist2[0], dist2[1], \n",
    "               angles='xy', scale_units='xy',scale=1, color='blue',\n",
    "              label='Trajectory 2: {:.2f}m.'.format(np.linalg.norm(dist2)))\n",
    "    plt.quiver(np.add(dist1[0],dist2[0]), np.add(dist1[1],dist2[1]),\n",
    "               dist3[0], dist3[1], angles='xy', scale_units='xy',scale=1, color='green',\n",
    "              label='Trajectory 3: {:.2f}m.'.format(np.linalg.norm(dist3)))\n",
    "    plt.quiver(0,0, dist_total[0], dist_total[1], \n",
    "               angles='xy', scale_units='xy',scale=1, color='orange',\n",
    "              label='Displacement: {:.2f}m. @ {:.2f}'.format(disp, theta))\n",
    "    \n",
    "    plt.legend()\n",
    "    \n",
    "    if make_figs:\n",
    "        plt.savefig(f'LinAlg-Lab2-PH Eagle-{int(disp)}@{int(theta)}.png', dpi=300)\n",
    "    \n",
    "    plt.show()\n",
    "    \n",
    "## END OF FUNCTION  \n",
    "track_eagle(make_figs=False) ## Let 'make_figs' equal to False during debugging."
   ]
  },
  {
   "cell_type": "markdown",
   "metadata": {},
   "source": [
    "#### Guide questions:"
   ]
  },
  {
   "cell_type": "markdown",
   "metadata": {},
   "source": [
    "    1.What is the use of the variable  α ?\n",
    "            The variable alpha is used to get the value of the theta it also avoid the value of the division would be zero. If the value of the division is zero it would be error."
   ]
  },
  {
   "cell_type": "markdown",
   "metadata": {},
   "source": [
    "    2. Kindly explain the process of plotting the eagle flight vectors.\n",
    "            The first thing is to use the quiver function where it is used to plotting the framework. On this cell there are four quiver that is used. The three trajectory which is the red,blue and green arrow are the X and Y parameters also serves as the starting point of the location. As you can see on the code the three trajectory and the total displacement has their own x_coordinate, y_coordinate, x_direction and y_direction. These will serve as the location of the arrow. As the three values from the three trajectory will results to the value of the total displacement that connects to the tail end of the trajectory 1 up to front end of the trajectory 3. The long and lat variables generates the random integer to produce the vector to describe the distance. Lastly, the color itself is used for the arrows of the four trajectory for better understanding."
   ]
  },
  {
   "cell_type": "markdown",
   "metadata": {},
   "source": [
    "    3. Provide a flow chart describing the 'track_eagle' function. Please use LucidCharts or similar apps in making charts.\n",
    "<img src=\"Linear-algebra Lab2 Exercise/T.eagleD.jpeg\" width=1100 align=\"center\"/>"
   ]
  },
  {
   "cell_type": "markdown",
   "metadata": {},
   "source": [
    " "
   ]
  },
  {
   "cell_type": "markdown",
   "metadata": {},
   "source": [
    "# Part 2: Reverse Engineering\n",
    "Your project manager found out that the previous engineer that handled the project did some sort of algorithm regarding the eagles. He gave you the piece code for you to analyze and required you to make a documentation out of it. The code is given below.\n"
   ]
  },
  {
   "cell_type": "code",
   "execution_count": 43,
   "metadata": {},
   "outputs": [
    {
     "data": {
      "text/plain": [
       "(28, 31, 26)"
      ]
     },
     "execution_count": 43,
     "metadata": {},
     "output_type": "execute_result"
    }
   ],
   "source": [
    "def eagle_kinematics(s, t):\n",
    "    req_shape = 4\n",
    "    v = np.zeros((req_shape-1,)) # Array of zeros\n",
    "    a = np.zeros((req_shape-2,)) # Array of zeros\n",
    "    t_vect = np.array([t**3, t**2, t, 1]) # Array of [8,4,2,1]\n",
    "    if s.shape == (req_shape,):\n",
    "        v = np.array([3*s[0],2*s[1], s[2]]) # Array of [6,2,3]\n",
    "        a = np.array([2*v[0],v[1]]) # Array of [12,2]\n",
    "        s_t = np.sum(np.multiply(s, t_vect)) # the np.multiply is used to multiply the array of t_vect ([8,4,2,1]) and the array of x ([2,1,3,2]) which sum is 28\n",
    "        v_t = np.sum(np.multiply(v, t_vect[1:])) # the np.multiply is used to multiply the array ([4,2,1]) and the array ([6,2,3]) which sum is 31\n",
    "        a_t = np.sum(np.multiply(a, t_vect[2:])) # the np.multiply is used to multiply the array ([2,1]) and the array([12,2]) which sum is 26\n",
    "    else:\n",
    "        print(f'Input displacement vector is not valid. Make sure that the vector shape is ({req_shape},)')\n",
    "    \n",
    "    return s_t, v_t, a_t\n",
    "\n",
    "x = np.array([2,1,3,2])\n",
    "t = 2\n",
    "eagle_kinematics(x, t)"
   ]
  },
  {
   "cell_type": "markdown",
   "metadata": {},
   "source": [
    "### Guide questions:"
   ]
  },
  {
   "cell_type": "markdown",
   "metadata": {},
   "source": [
    "1. What is the function for? Explain the inputs, process, functions used, and the outputs.\n",
    "        The function eagle_kinematics is for knowing the value of the s_t, v_t and a_t. The inputs that are used is t and x. The t and x are position and time. To get the value of the s_t is to multiply the array of t_vect ([8,4,2,1]) and the array of x ([2,1,3,2]) which sum would be [16,4,6,2] which is equals to 28. In order to get the v_t value also to multiply the the array ([4,2,1]) and the array ([6,2,3]) which sum would be [24,4,3] which is equals to 31. Lastly, to get the value of a_t is to multiply the array ([2,1]) and the array([12,2]) which sum would be[24,2] which is equals to 26. The functions that has been used is np.zeros, np.array, np.sum  and np.multiply. The np.zero is used to return a new set of array which filled of zero , np.sum is used to get the sum of the array elements, np.array is used to create an array and np.multiply is used to multiply the two set of array. The outputs are the values of s_t, v_t and a_t which is 28,31,26"
   ]
  },
  {
   "cell_type": "markdown",
   "metadata": {},
   "source": [
    "    2.Kindly provide equations for  st , vt , and  at  basing on their code.\n",
    "     $ (s_t)= sum of [Position [:]]"
   ]
  },
  {
   "cell_type": "markdown",
   "metadata": {},
   "source": [
    " "
   ]
  },
  {
   "cell_type": "markdown",
   "metadata": {},
   "source": [
    "# Part 3: Bebang's Online Business\n",
    "You have a friend named Bebang who has an online business in which she sells donuts. She asks you to make something that helps her to observe the increase and decrease of her profit considering the reach of her online posts. As novice data analytic engineers, you suggest to make a plotter using vectors of her weekly profit and FB post reach for a month. She is amazed that you have this idea and will pay you 15,000 PHP for the program. Thus you venture in implementing your idea with the PH Eagle Tracker as the base code."
   ]
  },
  {
   "cell_type": "code",
   "execution_count": 20,
   "metadata": {},
   "outputs": [
    {
     "data": {
      "image/png": "[encoded data removed]",
      "text/plain": [
       "<Figure size 1152x360 with 1 Axes>"
      ]
     },
     "metadata": {
      "needs_background": "light"
     },
     "output_type": "display_data"
    }
   ],
   "source": [
    "## START OF FUNCTION\n",
    "def month_profit_trace(profit, reach, make_figs=True): ## You can simplify/ optimize this code for extra points\n",
    "    if (profit.shape == (4,)) and (reach.shape == (4,)): # It checks the number of profit and shape are four\n",
    "        week1 = np.array((reach[0], profit[0])) # It creates a new set of array for the week with profit and         \n",
    "        week2 = np.array((reach[1], profit[1]))\n",
    "        week3 = np.array((reach[2], profit[2]))\n",
    "        week4 =np.array((reach[3], profit[3]))\n",
    "        \n",
    "        week_total = week1 + week2 + week3 + week4     \n",
    "        week_performance = np.linalg.norm(week_total)\n",
    "        alpha = 10**-6\n",
    "        reach_gradient =  np.arctan((week_total[1])/(week_total[0] + alpha))\n",
    "        reach_gradient = np.degrees(reach_gradient)\n",
    "        \n",
    "\n",
    "        plt.figure(figsize=(16,5))\n",
    "        plt.title('Bebang\\'s Month Post Efficiency')\n",
    "        plt.xlim(0,1.01*np.sum(reach))\n",
    "        plt.ylim(-np.sum(np.abs(profit)),np.sum(np.abs(profit)))\n",
    "        plt.xlabel('FB Post Reach Increment')\n",
    "        plt.ylabel('Profit')\n",
    "        plt.grid()\n",
    "        \n",
    "        plt.quiver(0,0, week1[0], week1[1],\n",
    "                   angles='xy', scale_units='xy',scale=1, color='green', width=0.0025,\n",
    "                   label='Week 1: {:.2f}'.format(np.linalg.norm(week1)))\n",
    "           \n",
    "        plt.quiver( week1[0], week1[1], week2[0],week2[1],\n",
    "                   angles='xy', scale_units='xy',scale=1, color='blue', width=0.0025,\n",
    "                   label='Week 2: {:.2f}'.format(np.linalg.norm(week2)))\n",
    "        \n",
    "        plt.quiver(( week1[0]+ week2[0]), (week1[1]+ week2[1]), week3[0],week3[1],\n",
    "                   angles='xy', scale_units='xy',scale=1, color='yellow', width=0.0025,\n",
    "                   label='Week 3: {:.2f}'.format(np.linalg.norm(week3)))\n",
    "        plt.quiver(( week1[0]+ week2[0]+ week3[0]), (week1[1]+ week2[1]+week3[1]), week4[0],week4[1],\n",
    "                   angles='xy', scale_units='xy',scale=1, color='orange', width=0.0025,\n",
    "                   label='Week 4: {:.2f}'.format(np.linalg.norm(week4)))\n",
    "        ## put necessary vector plotting code here\n",
    "\n",
    "        plt.quiver(0,0, week_total[0], week_total[1], \n",
    "                  angles='xy', scale_units='xy',scale=1, color='red', width=0.005,\n",
    "                  label='Efficiency: {:.2f} @ {:.2f}'.format(week_performance, reach_gradient))\n",
    "\n",
    "        plt.legend(loc='upper left')\n",
    "\n",
    "        if make_figs:\n",
    "            plt.savefig(f'LinAlg-Lab2-Bebang Post Eff-{int(week_performance)}@{int(reach_gradient)}.png', dpi=300)\n",
    "\n",
    "        plt.show()\n",
    "    \n",
    "    else:\n",
    "        print('Dimension error') ## Make a more appropriate error statement. \n",
    "\n",
    "## END OF FUNCTION  \n",
    "\n",
    "profit= np.array([-18000, 3000, 12000, 10000])    ## You can change the values to make different scenarios\n",
    "reach = np.array([1000, 1000, 5000, 1000])             ## You can change the values to make different scenarios\n",
    "\n",
    "month_profit_trace(profit, reach, make_figs=False) ## Toggle 'make_figs' during debugging or making documentations"
   ]
  },
  {
   "cell_type": "markdown",
   "metadata": {},
   "source": [
    " "
   ]
  },
  {
   "cell_type": "markdown",
   "metadata": {},
   "source": [
    " "
   ]
  },
  {
   "cell_type": "markdown",
   "metadata": {},
   "source": [
    "## Guide questions:\n",
    "    \n",
    "    1. What is the relationship between the FB post reach and the profit? \n",
    "        The relationship between the FB post reach and the profit it is directly proportional to the efficiency."
   ]
  },
  {
   "cell_type": "markdown",
   "metadata": {},
   "source": [
    "    2.Why is profit in the y-axis and FB post reach on the x-axis and not the other way around?\n",
    "           The reason why the profit is on the y-axis and the FB post is on the x-axis is because if the x- axis and y-axis changed the values of the profit would be negative. This would come up as a loss of the profit. On the other hand, the FB post would be on the y- axis therefore if you read the graph it wouldn't make sense and it is hard to understand the graph."
   ]
  },
  {
   "cell_type": "markdown",
   "metadata": {},
   "source": [
    "    3.Kindly explain the process of plotting the post efficiency vectors.\n",
    "        The first thing that I've been used is the quiver function which is the same from the cell 1 but this cell has five arrows. The parameter that has been use is also the same for the cell 1 where X and Y as the profit and Fb post Reach to represent the weeks. The cell 1 and cell 3 has the same process but different on the representation."
   ]
  },
  {
   "cell_type": "markdown",
   "metadata": {},
   "source": [
    "    4.Provide a necessary equations that are representative to finding the  performanceweek  and  reachgradient ."
   ]
  },
  {
   "cell_type": "markdown",
   "metadata": {},
   "source": [
    "    5.Try to alter the 'reach' and 'profit' values to display different scenarios. Save at least 3 scenarios then append and discuss the figures in your report."
   ]
  },
  {
   "cell_type": "markdown",
   "metadata": {},
   "source": [
    "    6.What can be observed and concluded with the behavior of the vectors with respect to post efficiency?\n",
    "      The behavior of the vector with respect to the post efficiency is that the profit and reach are directly proportional because if I decrease the values of the two the post effieciency will decrease and same also if I increase the value."
   ]
  },
  {
   "cell_type": "code",
   "execution_count": null,
   "metadata": {},
   "outputs": [],
   "source": []
  }
 ],
 "metadata": {
  "kernelspec": {
   "display_name": "Python 3",
   "language": "python",
   "name": "python3"
  },
  "language_info": {
   "codemirror_mode": {
    "name": "ipython",
    "version": 3
   },
   "file_extension": ".py",
   "mimetype": "text/x-python",
   "name": "python",
   "nbconvert_exporter": "python",
   "pygments_lexer": "ipython3",
   "version": "3.8.3"
  }
 },
 "nbformat": 4,
 "nbformat_minor": 4
}
